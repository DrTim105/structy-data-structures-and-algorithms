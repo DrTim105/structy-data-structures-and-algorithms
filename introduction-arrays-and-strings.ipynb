{
 "cells": [
  {
   "cell_type": "code",
   "execution_count": 1,
   "id": "92ea4c95",
   "metadata": {
    "_cell_guid": "b1076dfc-b9ad-4769-8c92-a6c4dae69d19",
    "_uuid": "8f2839f25d086af736a60e9eeb907d3b93b6e0e5",
    "execution": {
     "iopub.execute_input": "2023-04-10T13:33:05.400796Z",
     "iopub.status.busy": "2023-04-10T13:33:05.400110Z",
     "iopub.status.idle": "2023-04-10T13:33:05.406814Z",
     "shell.execute_reply": "2023-04-10T13:33:05.405353Z"
    },
    "papermill": {
     "duration": 0.019246,
     "end_time": "2023-04-10T13:33:05.411973",
     "exception": false,
     "start_time": "2023-04-10T13:33:05.392727",
     "status": "completed"
    },
    "tags": []
   },
   "outputs": [],
   "source": [
    "# This notebook deals with problems from the structy.net platform"
   ]
  },
  {
   "cell_type": "markdown",
   "id": "cafd3bed",
   "metadata": {
    "papermill": {
     "duration": 0.003455,
     "end_time": "2023-04-10T13:33:05.419305",
     "exception": false,
     "start_time": "2023-04-10T13:33:05.415850",
     "status": "completed"
    },
    "tags": []
   },
   "source": [
    "## 0. Introduction"
   ]
  },
  {
   "cell_type": "markdown",
   "id": "f99cb943",
   "metadata": {
    "papermill": {
     "duration": 0.003076,
     "end_time": "2023-04-10T13:33:05.425912",
     "exception": false,
     "start_time": "2023-04-10T13:33:05.422836",
     "status": "completed"
    },
    "tags": []
   },
   "source": [
    "### max value\n",
    "\n",
    "Write a function, max_value, that takes in list of numbers as an argument. The function should return the largest number in the list.\n",
    "\n",
    "Solve this without using any built-in list methods.\n",
    "\n",
    "You can assume that the list is non-empty.\n",
    "\n",
    "**test_00:**\n",
    "> max_value([4, 7, 2, 8, 10, 9]) # -> 10\n",
    "\n",
    "**test_01:**\n",
    "> max_value([10, 5, 40, 40.3]) # -> 40.3\n",
    "\n",
    "**test_02:**\n",
    "> max_value([-5, -2, -1, -11]) # -> -1\n",
    "\n",
    "**test_03:**\n",
    ">  max_value([42]) # -> 42\n",
    "\n",
    "**test_04:**\n",
    "> max_value([1000, 8]) # -> 1000\n",
    "\n",
    "**test_05:**\n",
    "> max_value([1000, 8, 9000]) # -> 9000\n",
    "\n",
    "**test_06:**\n",
    "> max_value([2, 5, 1, 1, 4]) # -> 5"
   ]
  },
  {
   "cell_type": "code",
   "execution_count": 2,
   "id": "05ce981f",
   "metadata": {
    "execution": {
     "iopub.execute_input": "2023-04-10T13:33:05.435341Z",
     "iopub.status.busy": "2023-04-10T13:33:05.434833Z",
     "iopub.status.idle": "2023-04-10T13:33:05.446419Z",
     "shell.execute_reply": "2023-04-10T13:33:05.444809Z"
    },
    "papermill": {
     "duration": 0.019919,
     "end_time": "2023-04-10T13:33:05.449315",
     "exception": false,
     "start_time": "2023-04-10T13:33:05.429396",
     "status": "completed"
    },
    "tags": []
   },
   "outputs": [],
   "source": [
    "def max_value(nums):\n",
    "  max = float('-inf')\n",
    "  \n",
    "  for i in nums:\n",
    "    if i > max:\n",
    "      max = i\n",
    "\n",
    "  return max"
   ]
  },
  {
   "cell_type": "markdown",
   "id": "41843bd5",
   "metadata": {
    "papermill": {
     "duration": 0.003289,
     "end_time": "2023-04-10T13:33:05.456265",
     "exception": false,
     "start_time": "2023-04-10T13:33:05.452976",
     "status": "completed"
    },
    "tags": []
   },
   "source": [
    "### is prime\n",
    "\n",
    "Write a function, is_prime, that takes in a number as an argument. The function should return a boolean indicating whether or not the given number is prime.\n",
    "\n",
    "A prime number is a number that is only divisible by two distinct numbers: 1 and itself.\n",
    "\n",
    "For example, 7 is a prime because it is only divisible by 1 and 7. For example, 6 is not a prime because it is divisible by 1, 2, 3, and 6.\n",
    "\n",
    "You can assume that the input number is a positive integer.\n",
    "\n",
    "**test_00:**\n",
    "> is_prime(2) # -> True\n",
    "\n",
    "**test_01:**\n",
    "> is_prime(3) # -> True\n",
    "\n",
    "**test_02:**\n",
    "> is_prime(4) # -> False\n",
    "\n",
    "**test_03:**\n",
    "> is_prime(5) # -> True\n",
    "\n",
    "**test_04:**\n",
    "> is_prime(6) # -> False\n",
    "\n",
    "**test_05:**\n",
    "> is_prime(7) # -> True\n",
    "\n",
    "**test_06:**\n",
    "> is_prime(8) # -> False\n",
    "\n",
    "**test_07:**\n",
    "> is_prime(25) # -> False\n",
    "\n",
    "**test_08:**\n",
    "> is_prime(31) # -> True\n",
    "\n",
    "**test_09:**\n",
    "> is_prime(2017) # -> True\n",
    "\n",
    "**test_10:**\n",
    "> is_prime(2048) # -> False\n",
    "\n",
    "**test_11:**\n",
    "> is_prime(1) # -> False\n",
    "\n",
    "**test_12:**\n",
    "> is_prime(713) # -> False\n"
   ]
  },
  {
   "cell_type": "code",
   "execution_count": 3,
   "id": "e4bb9adf",
   "metadata": {
    "execution": {
     "iopub.execute_input": "2023-04-10T13:33:05.466182Z",
     "iopub.status.busy": "2023-04-10T13:33:05.465678Z",
     "iopub.status.idle": "2023-04-10T13:33:05.473813Z",
     "shell.execute_reply": "2023-04-10T13:33:05.472180Z"
    },
    "papermill": {
     "duration": 0.017319,
     "end_time": "2023-04-10T13:33:05.477117",
     "exception": false,
     "start_time": "2023-04-10T13:33:05.459798",
     "status": "completed"
    },
    "tags": []
   },
   "outputs": [],
   "source": [
    "from math import sqrt, floor\n",
    "\n",
    "def is_prime(n):\n",
    "  if n <= 1:\n",
    "    isprime = False\n",
    "  else:\n",
    "    isprime = True\n",
    "  \n",
    "  for i in range(2, floor(sqrt(n)) + 1):\n",
    "    if n % i == 0:\n",
    "      isprime = False\n",
    "      \n",
    "  return isprime"
   ]
  },
  {
   "cell_type": "markdown",
   "id": "43d91a0b",
   "metadata": {
    "papermill": {
     "duration": 0.003437,
     "end_time": "2023-04-10T13:33:05.485141",
     "exception": false,
     "start_time": "2023-04-10T13:33:05.481704",
     "status": "completed"
    },
    "tags": []
   },
   "source": [
    "## 1. Array and String"
   ]
  },
  {
   "cell_type": "markdown",
   "id": "a156dac5",
   "metadata": {
    "papermill": {
     "duration": 0.003201,
     "end_time": "2023-04-10T13:33:05.492175",
     "exception": false,
     "start_time": "2023-04-10T13:33:05.488974",
     "status": "completed"
    },
    "tags": []
   },
   "source": [
    "### uncompress\n",
    "\n",
    "Write a function, uncompress, that takes in a string as an argument. The input string will be formatted into multiple groups according to the following pattern:\n",
    "\n",
    "<number><char>\n",
    "\n",
    "for example, '2c' or '3a'.\n",
    "The function should return an uncompressed version of the string where each 'char' of a group is repeated 'number' times consecutively. You may assume that the input string is well-formed according to the previously mentioned pattern.\n",
    "\n",
    "**test_00:**\n",
    "> uncompress(\"2c3a1t\") # -> 'ccaaat'\n",
    "    \n",
    "**test_01:**\n",
    "> uncompress(\"4s2b\") # -> 'ssssbb'\n",
    "    \n",
    "**test_02:**\n",
    "> uncompress(\"2p1o5p\") # -> 'ppoppppp'\n",
    "    \n",
    "**test_03:**\n",
    "> uncompress(\"3n12e2z\") # -> 'nnneeeeeeeeeeeezz'\n",
    "    \n",
    "**test_04:**\n",
    "> uncompress(\"127y\") # -> 'yyyyyyyyyyyyyyyyyyyyyyyyyyyyyyyyyyyyyyyyyyyyyyyyyyyyyyyyyyyyyyyyyyyyy...."
   ]
  },
  {
   "cell_type": "code",
   "execution_count": 4,
   "id": "0fe66214",
   "metadata": {
    "execution": {
     "iopub.execute_input": "2023-04-10T13:33:05.502246Z",
     "iopub.status.busy": "2023-04-10T13:33:05.501766Z",
     "iopub.status.idle": "2023-04-10T13:33:05.510624Z",
     "shell.execute_reply": "2023-04-10T13:33:05.509078Z"
    },
    "papermill": {
     "duration": 0.017373,
     "end_time": "2023-04-10T13:33:05.513626",
     "exception": false,
     "start_time": "2023-04-10T13:33:05.496253",
     "status": "completed"
    },
    "tags": []
   },
   "outputs": [],
   "source": [
    "# First solution\n",
    "\n",
    "def uncompress(s):\n",
    "  str = ''\n",
    "  num = ''\n",
    "  \n",
    "  for i in range(len(s)):\n",
    "    if s[i].isnumeric():\n",
    "      num += s[i]\n",
    "    else:\n",
    "      str += s[i] * int(num)\n",
    "      num = ''\n",
    "      \n",
    "  return str\n",
    "\n",
    "# Second Solution\n",
    "\n",
    "def uncompress(s):\n",
    "  str = ''\n",
    "  j = 0\n",
    "  \n",
    "  for i in range(len(s)):\n",
    "    if s[i].isalpha():\n",
    "      j = int(s[j:i])\n",
    "      str += j * s[i]\n",
    "      j = i + 1      \n",
    "\n",
    "  return str"
   ]
  },
  {
   "cell_type": "markdown",
   "id": "9967326b",
   "metadata": {
    "papermill": {
     "duration": 0.003273,
     "end_time": "2023-04-10T13:33:05.520666",
     "exception": false,
     "start_time": "2023-04-10T13:33:05.517393",
     "status": "completed"
    },
    "tags": []
   },
   "source": [
    "### compress\n",
    "\n",
    "Write a function, compress, that takes in a string as an argument. The function should return a compressed version of the string where consecutive occurrences of the same characters are compressed into the number of occurrences followed by the character. Single character occurrences should not be changed.\n",
    "\n",
    "* 'aaa' compresses to '3a' \n",
    "* 'cc' compresses to '2c'\n",
    "* 't' should remain as 't'\n",
    "* You can assume that the input only contains alphabetic characters.\n",
    "\n",
    "**test_00:**\n",
    "> compress('ccaaatsss') # -> '2c3at3s'\n",
    "\n",
    "**test_01:**\n",
    "> compress('ssssbbz') # -> '4s2bz'\n",
    "\n",
    "**test_02:**\n",
    "> compress('ppoppppp') # -> '2po5p'\n",
    "\n",
    "**test_03:**\n",
    "> compress('nnneeeeeeeeeeeezz') # -> '3n12e2z'\n",
    "\n",
    "**test_00:**\n",
    "> compress('yyyyyyyyyyyyyyyyyyyyyyyyyyyyyyyyyyyyyyyyyyyyyyyyyyyyyyyyyyyyyyyyyyyyyyyyyyyyyyyyyyyyyyyyyyyyyyyyyyyyyyyyyyyyyyyyyyyyyyyyyyyyyyy'); # -> '127y'"
   ]
  },
  {
   "cell_type": "code",
   "execution_count": 5,
   "id": "fbb08e97",
   "metadata": {
    "execution": {
     "iopub.execute_input": "2023-04-10T13:33:05.530529Z",
     "iopub.status.busy": "2023-04-10T13:33:05.529964Z",
     "iopub.status.idle": "2023-04-10T13:33:05.541040Z",
     "shell.execute_reply": "2023-04-10T13:33:05.539755Z"
    },
    "papermill": {
     "duration": 0.019417,
     "end_time": "2023-04-10T13:33:05.543707",
     "exception": false,
     "start_time": "2023-04-10T13:33:05.524290",
     "status": "completed"
    },
    "tags": []
   },
   "outputs": [],
   "source": [
    "def compress(s):\n",
    "  result = ''\n",
    "  count = 0\n",
    "  j = 0\n",
    "  s += ' '\n",
    "  for i in range(len(s)):\n",
    "    if (s[j] != s[i]):\n",
    "      count = i - j\n",
    "      \n",
    "      if count == 1:\n",
    "        result += s[j]\n",
    "      else:\n",
    "        result += str(count) + s[j]\n",
    "      \n",
    "      j = i\n",
    "\n",
    "  return result\n",
    "\n",
    "# alernative solution to improve efficiency\n",
    "\n",
    "def compress(s):\n",
    "  result = ['']\n",
    "  count = 0\n",
    "  j = 0\n",
    "  s += ' '\n",
    "  for i in range(len(s)):\n",
    "    if (s[j] != s[i]):\n",
    "      count = i - j\n",
    "      \n",
    "      if count == 1:\n",
    "        result.append(s[j])\n",
    "      else:\n",
    "        result.append(str(count))\n",
    "        result.append(s[j])\n",
    "      \n",
    "      j = i\n",
    "\n",
    "  return ''.join(result)"
   ]
  }
 ],
 "metadata": {
  "kernelspec": {
   "display_name": "Python 3",
   "language": "python",
   "name": "python3"
  },
  "language_info": {
   "codemirror_mode": {
    "name": "ipython",
    "version": 3
   },
   "file_extension": ".py",
   "mimetype": "text/x-python",
   "name": "python",
   "nbconvert_exporter": "python",
   "pygments_lexer": "ipython3",
   "version": "3.7.12"
  },
  "papermill": {
   "default_parameters": {},
   "duration": 13.185157,
   "end_time": "2023-04-10T13:33:06.471787",
   "environment_variables": {},
   "exception": null,
   "input_path": "__notebook__.ipynb",
   "output_path": "__notebook__.ipynb",
   "parameters": {},
   "start_time": "2023-04-10T13:32:53.286630",
   "version": "2.4.0"
  }
 },
 "nbformat": 4,
 "nbformat_minor": 5
}
