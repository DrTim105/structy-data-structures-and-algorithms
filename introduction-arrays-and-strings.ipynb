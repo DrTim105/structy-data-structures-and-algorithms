{
 "cells": [
  {
   "cell_type": "code",
   "execution_count": 1,
   "id": "91b0eb5d",
   "metadata": {
    "_cell_guid": "b1076dfc-b9ad-4769-8c92-a6c4dae69d19",
    "_uuid": "8f2839f25d086af736a60e9eeb907d3b93b6e0e5",
    "execution": {
     "iopub.execute_input": "2023-04-10T08:41:44.153837Z",
     "iopub.status.busy": "2023-04-10T08:41:44.153232Z",
     "iopub.status.idle": "2023-04-10T08:41:44.160720Z",
     "shell.execute_reply": "2023-04-10T08:41:44.159115Z"
    },
    "papermill": {
     "duration": 0.019259,
     "end_time": "2023-04-10T08:41:44.166216",
     "exception": false,
     "start_time": "2023-04-10T08:41:44.146957",
     "status": "completed"
    },
    "tags": []
   },
   "outputs": [],
   "source": [
    "# This notebook deals with problems from the structy.net platform"
   ]
  },
  {
   "cell_type": "markdown",
   "id": "0935c9a7",
   "metadata": {
    "papermill": {
     "duration": 0.002549,
     "end_time": "2023-04-10T08:41:44.173662",
     "exception": false,
     "start_time": "2023-04-10T08:41:44.171113",
     "status": "completed"
    },
    "tags": []
   },
   "source": [
    "## 0. Introduction"
   ]
  },
  {
   "cell_type": "markdown",
   "id": "2bbba54a",
   "metadata": {
    "papermill": {
     "duration": 0.002501,
     "end_time": "2023-04-10T08:41:44.179005",
     "exception": false,
     "start_time": "2023-04-10T08:41:44.176504",
     "status": "completed"
    },
    "tags": []
   },
   "source": [
    "### max value\n",
    "\n",
    "Write a function, max_value, that takes in list of numbers as an argument. The function should return the largest number in the list.\n",
    "\n",
    "Solve this without using any built-in list methods.\n",
    "\n",
    "You can assume that the list is non-empty.\n",
    "\n",
    "**test_00:**\n",
    "> max_value([4, 7, 2, 8, 10, 9]) # -> 10\n",
    "\n",
    "**test_01:**\n",
    "> max_value([10, 5, 40, 40.3]) # -> 40.3\n",
    "\n",
    "**test_02:**\n",
    "> max_value([-5, -2, -1, -11]) # -> -1\n",
    "\n",
    "**test_03:**\n",
    ">  max_value([42]) # -> 42\n",
    "\n",
    "**test_04:**\n",
    "> max_value([1000, 8]) # -> 1000\n",
    "\n",
    "**test_05:**\n",
    "> max_value([1000, 8, 9000]) # -> 9000\n",
    "\n",
    "**test_06:**\n",
    "> max_value([2, 5, 1, 1, 4]) # -> 5"
   ]
  },
  {
   "cell_type": "code",
   "execution_count": 2,
   "id": "6c1343c3",
   "metadata": {
    "execution": {
     "iopub.execute_input": "2023-04-10T08:41:44.187414Z",
     "iopub.status.busy": "2023-04-10T08:41:44.186453Z",
     "iopub.status.idle": "2023-04-10T08:41:44.195961Z",
     "shell.execute_reply": "2023-04-10T08:41:44.194967Z"
    },
    "papermill": {
     "duration": 0.016794,
     "end_time": "2023-04-10T08:41:44.198532",
     "exception": false,
     "start_time": "2023-04-10T08:41:44.181738",
     "status": "completed"
    },
    "tags": []
   },
   "outputs": [],
   "source": [
    "def max_value(nums):\n",
    "  max = float('-inf')\n",
    "  \n",
    "  for i in nums:\n",
    "    if i > max:\n",
    "      max = i\n",
    "\n",
    "  return max"
   ]
  },
  {
   "cell_type": "markdown",
   "id": "f1118da7",
   "metadata": {
    "papermill": {
     "duration": 0.002564,
     "end_time": "2023-04-10T08:41:44.204152",
     "exception": false,
     "start_time": "2023-04-10T08:41:44.201588",
     "status": "completed"
    },
    "tags": []
   },
   "source": [
    "### is prime\n",
    "\n",
    "Write a function, is_prime, that takes in a number as an argument. The function should return a boolean indicating whether or not the given number is prime.\n",
    "\n",
    "A prime number is a number that is only divisible by two distinct numbers: 1 and itself.\n",
    "\n",
    "For example, 7 is a prime because it is only divisible by 1 and 7. For example, 6 is not a prime because it is divisible by 1, 2, 3, and 6.\n",
    "\n",
    "You can assume that the input number is a positive integer.\n",
    "\n",
    "**test_00:**\n",
    "> is_prime(2) # -> True\n",
    "\n",
    "**test_01:**\n",
    "> is_prime(3) # -> True\n",
    "\n",
    "**test_02:**\n",
    "> is_prime(4) # -> False\n",
    "\n",
    "**test_03:**\n",
    "> is_prime(5) # -> True\n",
    "\n",
    "**test_04:**\n",
    "> is_prime(6) # -> False\n",
    "\n",
    "**test_05:**\n",
    "> is_prime(7) # -> True\n",
    "\n",
    "**test_06:**\n",
    "> is_prime(8) # -> False\n",
    "\n",
    "**test_07:**\n",
    "> is_prime(25) # -> False\n",
    "\n",
    "**test_08:**\n",
    "> is_prime(31) # -> True\n",
    "\n",
    "**test_09:**\n",
    "> is_prime(2017) # -> True\n",
    "\n",
    "**test_10:**\n",
    "> is_prime(2048) # -> False\n",
    "\n",
    "**test_11:**\n",
    "> is_prime(1) # -> False\n",
    "\n",
    "**test_12:**\n",
    "> is_prime(713) # -> False\n"
   ]
  },
  {
   "cell_type": "code",
   "execution_count": 3,
   "id": "32383d36",
   "metadata": {
    "execution": {
     "iopub.execute_input": "2023-04-10T08:41:44.211783Z",
     "iopub.status.busy": "2023-04-10T08:41:44.211040Z",
     "iopub.status.idle": "2023-04-10T08:41:44.217268Z",
     "shell.execute_reply": "2023-04-10T08:41:44.216090Z"
    },
    "papermill": {
     "duration": 0.013004,
     "end_time": "2023-04-10T08:41:44.219898",
     "exception": false,
     "start_time": "2023-04-10T08:41:44.206894",
     "status": "completed"
    },
    "tags": []
   },
   "outputs": [],
   "source": [
    "from math import sqrt, floor\n",
    "\n",
    "def is_prime(n):\n",
    "  if n <= 1:\n",
    "    isprime = False\n",
    "  else:\n",
    "    isprime = True\n",
    "  \n",
    "  for i in range(2, floor(sqrt(n)) + 1):\n",
    "    if n % i == 0:\n",
    "      isprime = False\n",
    "      \n",
    "  return isprime"
   ]
  },
  {
   "cell_type": "markdown",
   "id": "c8b8404d",
   "metadata": {
    "papermill": {
     "duration": 0.002582,
     "end_time": "2023-04-10T08:41:44.225376",
     "exception": false,
     "start_time": "2023-04-10T08:41:44.222794",
     "status": "completed"
    },
    "tags": []
   },
   "source": [
    "## 1. Array and String"
   ]
  },
  {
   "cell_type": "markdown",
   "id": "f52dfacb",
   "metadata": {
    "papermill": {
     "duration": 0.002499,
     "end_time": "2023-04-10T08:41:44.230668",
     "exception": false,
     "start_time": "2023-04-10T08:41:44.228169",
     "status": "completed"
    },
    "tags": []
   },
   "source": [
    "### uncompress\n",
    "\n",
    "Write a function, uncompress, that takes in a string as an argument. The input string will be formatted into multiple groups according to the following pattern:\n",
    "\n",
    "<number><char>\n",
    "\n",
    "for example, '2c' or '3a'.\n",
    "The function should return an uncompressed version of the string where each 'char' of a group is repeated 'number' times consecutively. You may assume that the input string is well-formed according to the previously mentioned pattern.\n",
    "\n",
    "**test_00:**\n",
    "> uncompress(\"2c3a1t\") # -> 'ccaaat'\n",
    "    \n",
    "**test_01:**\n",
    "> uncompress(\"4s2b\") # -> 'ssssbb'\n",
    "    \n",
    "**test_02:**\n",
    "> uncompress(\"2p1o5p\") # -> 'ppoppppp'\n",
    "    \n",
    "**test_03:**\n",
    "> uncompress(\"3n12e2z\") # -> 'nnneeeeeeeeeeeezz'\n",
    "    \n",
    "**test_04:**\n",
    "> uncompress(\"127y\") # -> 'yyyyyyyyyyyyyyyyyyyyyyyyyyyyyyyyyyyyyyyyyyyyyyyyyyyyyyyyyyyyyyyyyyyyy...."
   ]
  },
  {
   "cell_type": "code",
   "execution_count": 4,
   "id": "91dea69b",
   "metadata": {
    "execution": {
     "iopub.execute_input": "2023-04-10T08:41:44.238838Z",
     "iopub.status.busy": "2023-04-10T08:41:44.237658Z",
     "iopub.status.idle": "2023-04-10T08:41:44.246118Z",
     "shell.execute_reply": "2023-04-10T08:41:44.244632Z"
    },
    "papermill": {
     "duration": 0.015266,
     "end_time": "2023-04-10T08:41:44.248826",
     "exception": false,
     "start_time": "2023-04-10T08:41:44.233560",
     "status": "completed"
    },
    "tags": []
   },
   "outputs": [],
   "source": [
    "# First solution\n",
    "\n",
    "def uncompress(s):\n",
    "  str = ''\n",
    "  num = ''\n",
    "  \n",
    "  for i in range(len(s)):\n",
    "    if s[i].isnumeric():\n",
    "      num += s[i]\n",
    "    else:\n",
    "      str += s[i] * int(num)\n",
    "      num = ''\n",
    "      \n",
    "  return str\n",
    "\n",
    "# Second Solution\n",
    "\n",
    "def uncompress(s):\n",
    "  str = ''\n",
    "  j = 0\n",
    "  \n",
    "  for i in range(len(s)):\n",
    "    if s[i].isalpha():\n",
    "      j = int(s[j:i])\n",
    "      str += j * s[i]\n",
    "      j = i + 1      \n",
    "\n",
    "  return str"
   ]
  }
 ],
 "metadata": {
  "kernelspec": {
   "display_name": "Python 3",
   "language": "python",
   "name": "python3"
  },
  "language_info": {
   "codemirror_mode": {
    "name": "ipython",
    "version": 3
   },
   "file_extension": ".py",
   "mimetype": "text/x-python",
   "name": "python",
   "nbconvert_exporter": "python",
   "pygments_lexer": "ipython3",
   "version": "3.7.12"
  },
  "papermill": {
   "default_parameters": {},
   "duration": 10.735499,
   "end_time": "2023-04-10T08:41:44.873044",
   "environment_variables": {},
   "exception": null,
   "input_path": "__notebook__.ipynb",
   "output_path": "__notebook__.ipynb",
   "parameters": {},
   "start_time": "2023-04-10T08:41:34.137545",
   "version": "2.4.0"
  }
 },
 "nbformat": 4,
 "nbformat_minor": 5
}
